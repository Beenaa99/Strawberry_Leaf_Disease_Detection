{
  "nbformat": 4,
  "nbformat_minor": 0,
  "metadata": {
    "colab": {
      "provenance": [],
      "authorship_tag": "ABX9TyPLVEdTcqm/OfLeZ2AU7W7d",
      "include_colab_link": true
    },
    "kernelspec": {
      "name": "python3",
      "display_name": "Python 3"
    },
    "language_info": {
      "name": "python"
    }
  },
  "cells": [
    {
      "cell_type": "markdown",
      "metadata": {
        "id": "view-in-github",
        "colab_type": "text"
      },
      "source": [
        "<a href=\"https://colab.research.google.com/github/Beenaa99/Strawberry_Leaf_Disease_Detection/blob/main/Data_splitting_strawberry_leaves.ipynb\" target=\"_parent\"><img src=\"https://colab.research.google.com/assets/colab-badge.svg\" alt=\"Open In Colab\"/></a>"
      ]
    },
    {
      "cell_type": "code",
      "execution_count": 1,
      "metadata": {
        "id": "EKbgq6qbhxfn"
      },
      "outputs": [],
      "source": [
        "import os\n",
        "import shutil\n",
        "import random\n",
        "from google.colab import drive\n",
        "import matplotlib.pyplot as plt\n",
        "import numpy as np\n",
        "from PIL import Image\n",
        "from sklearn.model_selection import train_test_split\n"
      ]
    },
    {
      "cell_type": "code",
      "source": [
        "# Mount Google Drive\n",
        "drive.mount('/content/drive')\n",
        "\n",
        "# Define the path to your dataset\n",
        "data_path = '/content/drive/MyDrive/omdena/Image Collection/Strawberry Leaf - Beenaa'\n",
        "\n",
        "# Create directories for train, validation, and test sets\n",
        "base_dir = '/content/drive/MyDrive/omdena/Image Collection/Strawberry Leaf - Beenaa/Split_data'\n",
        "os.makedirs(base_dir, exist_ok=True)\n",
        "train_dir = os.path.join(base_dir, 'train')\n",
        "val_dir = os.path.join(base_dir, 'val')\n",
        "test_dir = os.path.join(base_dir, 'test')"
      ],
      "metadata": {
        "colab": {
          "base_uri": "https://localhost:8080/"
        },
        "id": "xmdMu1dnhzHX",
        "outputId": "b0c974f2-26de-444f-8a97-79748012311d"
      },
      "execution_count": 2,
      "outputs": [
        {
          "output_type": "stream",
          "name": "stdout",
          "text": [
            "Mounted at /content/drive\n"
          ]
        }
      ]
    },
    {
      "cell_type": "code",
      "source": [
        "# Create subdirectories for each class in train, val, and test directories\n",
        "classes = ['angular_leaf_spots_bacteria', 'healthy_leaf', 'leaf_scorch_fungus', 'leaf_spot_fungus']\n",
        "for category in classes:\n",
        "    os.makedirs(os.path.join(train_dir, category), exist_ok=True)\n",
        "    os.makedirs(os.path.join(val_dir, category), exist_ok=True)\n",
        "    os.makedirs(os.path.join(test_dir, category), exist_ok=True)"
      ],
      "metadata": {
        "id": "FMUXAYwNiN9T"
      },
      "execution_count": 3,
      "outputs": []
    },
    {
      "cell_type": "code",
      "source": [
        "# Function to resize and normalize images\n",
        "def process_and_save_images(src_dir, dest_dir, image_size=(256, 256)):\n",
        "    for category in classes:\n",
        "        category_path = os.path.join(src_dir, category)\n",
        "        images = os.listdir(category_path)\n",
        "        for image_name in images:\n",
        "            img_path = os.path.join(category_path, image_name)\n",
        "            try:\n",
        "                img = Image.open(img_path)\n",
        "                img = img.resize(image_size)\n",
        "                img = np.array(img) / 255.0  # Normalize\n",
        "                img = Image.fromarray((img * 255).astype('uint8'))\n",
        "                img.save(os.path.join(dest_dir, category, image_name))\n",
        "            except Exception as e:\n",
        "                print(f\"Error processing image {img_path}: {e}\")"
      ],
      "metadata": {
        "id": "CW3oQUh9iX4n"
      },
      "execution_count": 4,
      "outputs": []
    },
    {
      "cell_type": "code",
      "source": [
        "# Read and split the data\n",
        "for category in classes:\n",
        "    category_path = os.path.join(data_path, category)\n",
        "    images = os.listdir(category_path)\n",
        "    train_imgs, test_imgs = train_test_split(images, test_size=0.2, random_state=42)\n",
        "    train_imgs, val_imgs = train_test_split(train_imgs, test_size=0.25, random_state=42)  # 0.25 x 0.8 = 0.2\n",
        "\n",
        "    for image_name in train_imgs:\n",
        "        shutil.copy(os.path.join(category_path, image_name), os.path.join(train_dir, category, image_name))\n",
        "\n",
        "    for image_name in val_imgs:\n",
        "        shutil.copy(os.path.join(category_path, image_name), os.path.join(val_dir, category, image_name))\n",
        "\n",
        "    for image_name in test_imgs:\n",
        "        shutil.copy(os.path.join(category_path, image_name), os.path.join(test_dir, category, image_name))\n"
      ],
      "metadata": {
        "id": "2jJ2C268iiBo"
      },
      "execution_count": 5,
      "outputs": []
    },
    {
      "cell_type": "code",
      "source": [
        "# Process and save images\n",
        "process_and_save_images(train_dir, train_dir)\n",
        "process_and_save_images(val_dir, val_dir)\n",
        "process_and_save_images(test_dir, test_dir)\n",
        "\n",
        "# Verify the result\n",
        "def count_images(directory):\n",
        "    count = 0\n",
        "    for category in classes:\n",
        "        category_path = os.path.join(directory, category)\n",
        "        count += len(os.listdir(category_path))\n",
        "    return count\n",
        "\n",
        "print(f\"Number of images in train set: {count_images(train_dir)}\")\n",
        "print(f\"Number of images in val set: {count_images(val_dir)}\")\n",
        "print(f\"Number of images in test set: {count_images(test_dir)}\")"
      ],
      "metadata": {
        "colab": {
          "base_uri": "https://localhost:8080/"
        },
        "id": "gwl_bNfQixgL",
        "outputId": "715a6333-1e5c-42d9-c73a-21a30f60bd95"
      },
      "execution_count": 6,
      "outputs": [
        {
          "output_type": "stream",
          "name": "stdout",
          "text": [
            "Number of images in train set: 2788\n",
            "Number of images in val set: 930\n",
            "Number of images in test set: 930\n"
          ]
        }
      ]
    }
  ]
}