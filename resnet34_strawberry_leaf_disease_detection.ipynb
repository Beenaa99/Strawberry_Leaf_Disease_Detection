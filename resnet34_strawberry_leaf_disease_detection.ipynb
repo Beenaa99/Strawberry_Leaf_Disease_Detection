{
  "nbformat": 4,
  "nbformat_minor": 0,
  "metadata": {
    "colab": {
      "provenance": [],
      "gpuType": "T4",
      "include_colab_link": true
    },
    "kernelspec": {
      "name": "python3",
      "display_name": "Python 3"
    },
    "language_info": {
      "name": "python"
    },
    "accelerator": "GPU"
  },
  "cells": [
    {
      "cell_type": "markdown",
      "metadata": {
        "id": "view-in-github",
        "colab_type": "text"
      },
      "source": [
        "<a href=\"https://colab.research.google.com/github/Beenaa99/Strawberry_Leaf_Disease_Detection/blob/main/resnet34_strawberry_leaf_disease_detection.ipynb\" target=\"_parent\"><img src=\"https://colab.research.google.com/assets/colab-badge.svg\" alt=\"Open In Colab\"/></a>"
      ]
    },
    {
      "cell_type": "markdown",
      "source": [
        "ResNet34 model used for multi class classification of diseases (bacteria/fungi) in strawberry leaves. Dataset has already been normalized and split into train test (80-20-20)(https://github.com/Beenaa99/Strawberry_Leaf_Disease_Detection/blob/main/Data_splitting_strawberry_leaves.ipynb)"
      ],
      "metadata": {
        "id": "2U0L5JbXamOR"
      }
    },
    {
      "cell_type": "code",
      "execution_count": null,
      "metadata": {
        "colab": {
          "base_uri": "https://localhost:8080/"
        },
        "id": "jCE4TTuV1DQW",
        "outputId": "5cec9c69-a6fd-46a4-dc78-c1e808bed339"
      },
      "outputs": [
        {
          "output_type": "stream",
          "name": "stdout",
          "text": [
            "Mounted at /content/drive\n"
          ]
        }
      ],
      "source": [
        "import torch\n",
        "from torch.utils.data import DataLoader\n",
        "from torchvision import datasets, transforms\n",
        "from google.colab import drive\n",
        "import torch.nn as nn\n",
        "import torchvision.models as models\n",
        "import torch.optim as optim\n",
        "from sklearn.metrics import confusion_matrix, classification_report\n",
        "\n",
        "drive.mount('/content/drive')\n",
        "\n",
        "# Define paths\n",
        "train_dir = '/content/drive/MyDrive/omdena/Image Collection/Strawberry Leaf - Beenaa/Split_data/train'\n",
        "val_dir = '/content/drive/MyDrive/omdena/Image Collection/Strawberry Leaf - Beenaa/Split_data/val'\n",
        "test_dir = '/content/drive/MyDrive/omdena/Image Collection/Strawberry Leaf - Beenaa/Split_data/test'\n",
        "\n",
        "# Define transformations (only resizing)\n",
        "transform = transforms.Compose([\n",
        "    transforms.Resize((224, 224)),\n",
        "    transforms.ToTensor()\n",
        "])\n",
        "\n",
        "# Load datasets\n",
        "train_dataset = datasets.ImageFolder(train_dir, transform=transform)\n",
        "val_dataset = datasets.ImageFolder(val_dir, transform=transform)\n",
        "test_dataset = datasets.ImageFolder(test_dir, transform=transform)\n",
        "\n",
        "# Define data loaders\n",
        "BATCH_SIZE = 32\n",
        "train_loader = DataLoader(train_dataset, batch_size=BATCH_SIZE, shuffle=True)\n",
        "val_loader = DataLoader(val_dataset, batch_size=BATCH_SIZE, shuffle=True)\n",
        "test_loader = DataLoader(test_dataset, batch_size=BATCH_SIZE, shuffle=False)\n",
        "\n",
        "# Class names\n",
        "class_names = train_dataset.classes\n"
      ]
    },
    {
      "cell_type": "markdown",
      "source": [
        "Loading pre-trained ResNet34 model for tranfer learning"
      ],
      "metadata": {
        "id": "DVmgR0nnbTHA"
      }
    },
    {
      "cell_type": "code",
      "source": [
        "# Loading pre-trained ResNet34 model\n",
        "resnet34 = models.resnet34(pretrained=True)\n",
        "\n",
        "# Freezing base model layer\n",
        "for param in resnet34.parameters():\n",
        "    param.requires_grad = False\n",
        "\n",
        "# Modifying final layers to fit our class_names length\n",
        "num_ftrs = resnet34.fc.in_features\n",
        "resnet34.fc = nn.Sequential(\n",
        "    nn.Linear(num_ftrs, 128),\n",
        "    nn.ReLU(),\n",
        "    nn.Dropout(0.5),\n",
        "    nn.Linear(128, len(class_names))\n",
        ")\n",
        "\n",
        "# GPU\n",
        "device = torch.device('cuda' if torch.cuda.is_available() else 'cpu')\n",
        "resnet34 = resnet34.to(device)\n"
      ],
      "metadata": {
        "colab": {
          "base_uri": "https://localhost:8080/"
        },
        "id": "T09vUoBh1nae",
        "outputId": "8a19325b-27ac-4a39-ece7-61099155f8d0"
      },
      "execution_count": null,
      "outputs": [
        {
          "output_type": "stream",
          "name": "stderr",
          "text": [
            "/usr/local/lib/python3.10/dist-packages/torchvision/models/_utils.py:208: UserWarning: The parameter 'pretrained' is deprecated since 0.13 and may be removed in the future, please use 'weights' instead.\n",
            "  warnings.warn(\n",
            "/usr/local/lib/python3.10/dist-packages/torchvision/models/_utils.py:223: UserWarning: Arguments other than a weight enum or `None` for 'weights' are deprecated since 0.13 and may be removed in the future. The current behavior is equivalent to passing `weights=ResNet34_Weights.IMAGENET1K_V1`. You can also use `weights=ResNet34_Weights.DEFAULT` to get the most up-to-date weights.\n",
            "  warnings.warn(msg)\n",
            "Downloading: \"https://download.pytorch.org/models/resnet34-b627a593.pth\" to /root/.cache/torch/hub/checkpoints/resnet34-b627a593.pth\n",
            "100%|██████████| 83.3M/83.3M [00:00<00:00, 194MB/s]\n"
          ]
        }
      ]
    },
    {
      "cell_type": "markdown",
      "source": [
        "Training, Validation and Evaluation Function"
      ],
      "metadata": {
        "id": "1es5jYC3bvXu"
      }
    },
    {
      "cell_type": "code",
      "source": [
        "\n",
        "# Loss function and optimizer\n",
        "criterion = nn.CrossEntropyLoss()\n",
        "optimizer = optim.Adam(resnet34.fc.parameters(), lr=0.001)\n",
        "\n",
        "# Training function\n",
        "def train_model(model, train_loader, val_loader, criterion, optimizer, num_epochs=25):\n",
        "    model.train()\n",
        "    for epoch in range(num_epochs):\n",
        "        running_loss = 0.0\n",
        "        correct = 0\n",
        "        total = 0\n",
        "        for inputs, labels in train_loader:\n",
        "            inputs, labels = inputs.to(device), labels.to(device)\n",
        "            optimizer.zero_grad()\n",
        "            outputs = model(inputs)\n",
        "            loss = criterion(outputs, labels)\n",
        "            loss.backward()\n",
        "            optimizer.step()\n",
        "            running_loss += loss.item() * inputs.size(0)\n",
        "            _, preds = torch.max(outputs, 1)\n",
        "            correct += torch.sum(preds == labels.data)\n",
        "            total += labels.size(0)\n",
        "        epoch_loss = running_loss / len(train_loader.dataset)\n",
        "        epoch_acc = correct.double() / total\n",
        "        print(f'Epoch {epoch}/{num_epochs - 1}, Loss: {epoch_loss:.4f}, Accuracy: {epoch_acc:.4f}')\n",
        "        validate_model(model, val_loader, criterion)\n",
        "\n",
        "# Validation function\n",
        "def validate_model(model, val_loader, criterion):\n",
        "    model.eval()\n",
        "    running_loss = 0.0\n",
        "    correct = 0\n",
        "    total = 0\n",
        "    with torch.no_grad():\n",
        "        for inputs, labels in val_loader:\n",
        "            inputs, labels = inputs.to(device), labels.to(device)\n",
        "            outputs = model(inputs)\n",
        "            loss = criterion(outputs, labels)\n",
        "            running_loss += loss.item() * inputs.size(0)\n",
        "            _, preds = torch.max(outputs, 1)\n",
        "            correct += torch.sum(preds == labels.data)\n",
        "            total += labels.size(0)\n",
        "        val_loss = running_loss / len(val_loader.dataset)\n",
        "        val_acc = correct.double() / total\n",
        "        print(f'Validation Loss: {val_loss:.4f}, Validation Accuracy: {val_acc:.4f}')\n",
        "\n",
        "# Evaluation function\n",
        "def evaluate_model(model, test_loader):\n",
        "    model.eval()\n",
        "    y_true = []\n",
        "    y_pred = []\n",
        "    with torch.no_grad():\n",
        "        for inputs, labels in test_loader:\n",
        "            inputs, labels = inputs.to(device), labels.to(device)\n",
        "            outputs = model(inputs)\n",
        "            _, preds = torch.max(outputs, 1)\n",
        "            y_true.extend(labels.cpu().numpy())\n",
        "            y_pred.extend(preds.cpu().numpy())\n",
        "    cm = confusion_matrix(y_true, y_pred)\n",
        "    cr = classification_report(y_true, y_pred, target_names=class_names, output_dict=True)\n",
        "    return cm, cr\n"
      ],
      "metadata": {
        "id": "IzDGznKQ2ajT"
      },
      "execution_count": null,
      "outputs": []
    },
    {
      "cell_type": "code",
      "source": [
        "train_model(resnet34, train_loader, val_loader, criterion, optimizer, num_epochs=25)"
      ],
      "metadata": {
        "colab": {
          "base_uri": "https://localhost:8080/"
        },
        "id": "MvceHS3h_DhR",
        "outputId": "7fa23946-e838-46ad-af27-69d9cf7b52e0"
      },
      "execution_count": null,
      "outputs": [
        {
          "output_type": "stream",
          "name": "stdout",
          "text": [
            "Epoch 0/24, Loss: 0.3830, Accuracy: 0.8691\n",
            "Validation Loss: 0.0866, Validation Accuracy: 0.9839\n",
            "Epoch 1/24, Loss: 0.0508, Accuracy: 0.9889\n",
            "Validation Loss: 0.0306, Validation Accuracy: 0.9935\n",
            "Epoch 2/24, Loss: 0.0246, Accuracy: 0.9957\n",
            "Validation Loss: 0.0222, Validation Accuracy: 0.9946\n",
            "Epoch 3/24, Loss: 0.0167, Accuracy: 0.9971\n",
            "Validation Loss: 0.0182, Validation Accuracy: 0.9946\n",
            "Epoch 4/24, Loss: 0.0089, Accuracy: 0.9982\n",
            "Validation Loss: 0.0145, Validation Accuracy: 0.9968\n",
            "Epoch 5/24, Loss: 0.0077, Accuracy: 0.9982\n",
            "Validation Loss: 0.0119, Validation Accuracy: 0.9957\n",
            "Epoch 6/24, Loss: 0.0040, Accuracy: 1.0000\n",
            "Validation Loss: 0.0104, Validation Accuracy: 0.9978\n",
            "Epoch 7/24, Loss: 0.0034, Accuracy: 1.0000\n",
            "Validation Loss: 0.0106, Validation Accuracy: 0.9968\n",
            "Epoch 8/24, Loss: 0.0022, Accuracy: 1.0000\n",
            "Validation Loss: 0.0083, Validation Accuracy: 0.9978\n",
            "Epoch 9/24, Loss: 0.0017, Accuracy: 1.0000\n",
            "Validation Loss: 0.0097, Validation Accuracy: 0.9968\n",
            "Epoch 10/24, Loss: 0.0014, Accuracy: 1.0000\n",
            "Validation Loss: 0.0093, Validation Accuracy: 0.9957\n",
            "Epoch 11/24, Loss: 0.0012, Accuracy: 1.0000\n",
            "Validation Loss: 0.0080, Validation Accuracy: 0.9978\n",
            "Epoch 12/24, Loss: 0.0010, Accuracy: 1.0000\n",
            "Validation Loss: 0.0091, Validation Accuracy: 0.9957\n",
            "Epoch 13/24, Loss: 0.0008, Accuracy: 1.0000\n",
            "Validation Loss: 0.0081, Validation Accuracy: 0.9968\n",
            "Epoch 14/24, Loss: 0.0007, Accuracy: 1.0000\n",
            "Validation Loss: 0.0074, Validation Accuracy: 0.9978\n",
            "Epoch 15/24, Loss: 0.0006, Accuracy: 1.0000\n",
            "Validation Loss: 0.0074, Validation Accuracy: 0.9978\n",
            "Epoch 16/24, Loss: 0.0006, Accuracy: 1.0000\n",
            "Validation Loss: 0.0080, Validation Accuracy: 0.9968\n",
            "Epoch 17/24, Loss: 0.0005, Accuracy: 1.0000\n",
            "Validation Loss: 0.0085, Validation Accuracy: 0.9968\n",
            "Epoch 18/24, Loss: 0.0004, Accuracy: 1.0000\n",
            "Validation Loss: 0.0067, Validation Accuracy: 0.9978\n",
            "Epoch 19/24, Loss: 0.0004, Accuracy: 1.0000\n",
            "Validation Loss: 0.0072, Validation Accuracy: 0.9978\n",
            "Epoch 20/24, Loss: 0.0003, Accuracy: 1.0000\n",
            "Validation Loss: 0.0067, Validation Accuracy: 0.9978\n",
            "Epoch 21/24, Loss: 0.0003, Accuracy: 1.0000\n",
            "Validation Loss: 0.0063, Validation Accuracy: 0.9978\n",
            "Epoch 22/24, Loss: 0.0003, Accuracy: 1.0000\n",
            "Validation Loss: 0.0071, Validation Accuracy: 0.9978\n",
            "Epoch 23/24, Loss: 0.0003, Accuracy: 1.0000\n",
            "Validation Loss: 0.0069, Validation Accuracy: 0.9978\n",
            "Epoch 24/24, Loss: 0.0002, Accuracy: 1.0000\n",
            "Validation Loss: 0.0068, Validation Accuracy: 0.9978\n"
          ]
        }
      ]
    },
    {
      "cell_type": "code",
      "source": [
        "# Saving model\n",
        "model_path = \"resnet34_model.pth\"\n",
        "torch.save(resnet34.state_dict(), model_path)\n",
        "\n",
        "print(f\"Model saved to {model_path}\")"
      ],
      "metadata": {
        "colab": {
          "base_uri": "https://localhost:8080/"
        },
        "id": "f9rFWeirLyv2",
        "outputId": "b2784072-5f60-4dc7-ce2d-9cb00ae8f0b9"
      },
      "execution_count": null,
      "outputs": [
        {
          "output_type": "stream",
          "name": "stdout",
          "text": [
            "Model saved to resnet34_model.pth\n"
          ]
        }
      ]
    },
    {
      "cell_type": "code",
      "source": [
        "cm, cr = evaluate_model(resnet34, test_loader)"
      ],
      "metadata": {
        "id": "XZbYjN-iA9pE"
      },
      "execution_count": null,
      "outputs": []
    },
    {
      "cell_type": "code",
      "source": [
        "cr"
      ],
      "metadata": {
        "colab": {
          "base_uri": "https://localhost:8080/"
        },
        "id": "HEXJNS9pODQ4",
        "outputId": "d50304ce-a090-415f-be3c-d48c36ce438c"
      },
      "execution_count": null,
      "outputs": [
        {
          "output_type": "execute_result",
          "data": {
            "text/plain": [
              "{'angular_leaf_spots_bacteria': {'precision': 0.9767441860465116,\n",
              "  'recall': 0.9655172413793104,\n",
              "  'f1-score': 0.9710982658959537,\n",
              "  'support': 87},\n",
              " 'healthy_leaf': {'precision': 1.0,\n",
              "  'recall': 1.0,\n",
              "  'f1-score': 1.0,\n",
              "  'support': 365},\n",
              " 'leaf_scorch_fungus': {'precision': 0.9971751412429378,\n",
              "  'recall': 0.9943661971830986,\n",
              "  'f1-score': 0.995768688293371,\n",
              "  'support': 355},\n",
              " 'leaf_spot_fungus': {'precision': 0.976,\n",
              "  'recall': 0.991869918699187,\n",
              "  'f1-score': 0.9838709677419355,\n",
              "  'support': 123},\n",
              " 'accuracy': 0.9935483870967742,\n",
              " 'macro avg': {'precision': 0.9874798318223623,\n",
              "  'recall': 0.987938339315399,\n",
              "  'f1-score': 0.987684480482815,\n",
              "  'support': 930},\n",
              " 'weighted avg': {'precision': 0.9935719562659026,\n",
              "  'recall': 0.9935483870967742,\n",
              "  'f1-score': 0.9935479166767234,\n",
              "  'support': 930}}"
            ]
          },
          "metadata": {},
          "execution_count": 10
        }
      ]
    },
    {
      "cell_type": "code",
      "source": [
        "#classification report\n",
        "print(\"Classification Report:\")\n",
        "print(f\"Precision: {cr['macro avg']['precision']:.2f}\")\n",
        "print(f\"Recall: {cr['macro avg']['recall']:.2f}\")\n",
        "print(f\"F1 Score: {cr['macro avg']['f1-score']:.2f}\")\n",
        "\n",
        "#confusion matrix\n",
        "import matplotlib.pyplot as plt\n",
        "import seaborn as sns\n",
        "\n",
        "def plot_confusion_matrix(cm, class_names, title=\"Confusion Matrix\"):\n",
        "    plt.figure(figsize=(10, 8))\n",
        "    sns.heatmap(cm, annot=True, fmt='d', cmap='Blues', xticklabels=class_names, yticklabels=class_names)\n",
        "    plt.xlabel('Predicted')\n",
        "    plt.ylabel('True')\n",
        "    plt.title(title)\n",
        "    plt.show()\n",
        "\n",
        "plot_confusion_matrix(cm, class_names, title=\"ResNet34 Confusion Matrix\")\n"
      ],
      "metadata": {
        "colab": {
          "base_uri": "https://localhost:8080/",
          "height": 789
        },
        "id": "VoefL3kRMReT",
        "outputId": "120bf12f-e165-44df-ca54-ffaa6c8b5044"
      },
      "execution_count": null,
      "outputs": [
        {
          "output_type": "stream",
          "name": "stdout",
          "text": [
            "Classification Report:\n",
            "Precision: 0.99\n",
            "Recall: 0.99\n",
            "F1 Score: 0.99\n"
          ]
        },
        {
          "output_type": "display_data",
          "data": {
            "text/plain": [
              "<Figure size 1000x800 with 2 Axes>"
            ],
            "image/png": "[encoded data removed]"
          },
          "metadata": {}
        }
      ]
    },
    {
      "cell_type": "markdown",
      "source": [
        "Classification report per class"
      ],
      "metadata": {
        "id": "LpGCWdOHb7yO"
      }
    },
    {
      "cell_type": "code",
      "source": [
        "def print_classification_report(report):\n",
        "    print(\"Classification Report:\")\n",
        "    for class_name, metrics in report.items():\n",
        "        if isinstance(metrics, dict):\n",
        "            print(f\"Class: {class_name}\")\n",
        "            print(f\"  Precision: {metrics['precision']:.2f}\")\n",
        "            print(f\"  Recall: {metrics['recall']:.2f}\")\n",
        "            print(f\"  F1 Score: {metrics['f1-score']:.2f}\")\n",
        "            print(f\"  Support: {metrics['support']}\")"
      ],
      "metadata": {
        "id": "j9RbsScvOtPQ"
      },
      "execution_count": null,
      "outputs": []
    },
    {
      "cell_type": "code",
      "source": [
        "print_classification_report(cr)"
      ],
      "metadata": {
        "colab": {
          "base_uri": "https://localhost:8080/"
        },
        "id": "UzA_QU-LO1RD",
        "outputId": "9f95a045-712d-4bdb-b4f5-66f58fd10783"
      },
      "execution_count": null,
      "outputs": [
        {
          "output_type": "stream",
          "name": "stdout",
          "text": [
            "Classification Report:\n",
            "Class: angular_leaf_spots_bacteria\n",
            "  Precision: 0.98\n",
            "  Recall: 0.97\n",
            "  F1 Score: 0.97\n",
            "  Support: 87\n",
            "Class: healthy_leaf\n",
            "  Precision: 1.00\n",
            "  Recall: 1.00\n",
            "  F1 Score: 1.00\n",
            "  Support: 365\n",
            "Class: leaf_scorch_fungus\n",
            "  Precision: 1.00\n",
            "  Recall: 0.99\n",
            "  F1 Score: 1.00\n",
            "  Support: 355\n",
            "Class: leaf_spot_fungus\n",
            "  Precision: 0.98\n",
            "  Recall: 0.99\n",
            "  F1 Score: 0.98\n",
            "  Support: 123\n",
            "Class: macro avg\n",
            "  Precision: 0.99\n",
            "  Recall: 0.99\n",
            "  F1 Score: 0.99\n",
            "  Support: 930\n",
            "Class: weighted avg\n",
            "  Precision: 0.99\n",
            "  Recall: 0.99\n",
            "  F1 Score: 0.99\n",
            "  Support: 930\n"
          ]
        }
      ]
    }
  ]
}